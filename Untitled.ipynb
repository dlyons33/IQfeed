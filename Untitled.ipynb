{
 "cells": [
  {
   "cell_type": "code",
   "execution_count": 15,
   "metadata": {},
   "outputs": [
    {
     "name": "stdout",
     "output_type": "stream",
     "text": [
      "The autoreload extension is already loaded. To reload it, use:\n",
      "  %reload_ext autoreload\n"
     ]
    }
   ],
   "source": [
    "%load_ext autoreload\n",
    "%autoreload 2"
   ]
  },
  {
   "cell_type": "code",
   "execution_count": 16,
   "metadata": {},
   "outputs": [],
   "source": [
    "import pandas as pd\n",
    "import iqfeed as iq"
   ]
  },
  {
   "cell_type": "code",
   "execution_count": 17,
   "metadata": {},
   "outputs": [],
   "source": [
    "ticker = 'SPY'\n",
    "interval = 60\n",
    "start = 20180101\n",
    "end = 20201203"
   ]
  },
  {
   "cell_type": "code",
   "execution_count": 18,
   "metadata": {},
   "outputs": [
    {
     "name": "stdout",
     "output_type": "stream",
     "text": [
      "Downloading historical data for symbol: SPY\n"
     ]
    }
   ],
   "source": [
    "df = iq.download_ticker(ticker,interval,start,end)"
   ]
  },
  {
   "cell_type": "code",
   "execution_count": 19,
   "metadata": {},
   "outputs": [
    {
     "data": {
      "text/html": [
       "<div>\n",
       "<style scoped>\n",
       "    .dataframe tbody tr th:only-of-type {\n",
       "        vertical-align: middle;\n",
       "    }\n",
       "\n",
       "    .dataframe tbody tr th {\n",
       "        vertical-align: top;\n",
       "    }\n",
       "\n",
       "    .dataframe thead th {\n",
       "        text-align: right;\n",
       "    }\n",
       "</style>\n",
       "<table border=\"1\" class=\"dataframe\">\n",
       "  <thead>\n",
       "    <tr style=\"text-align: right;\">\n",
       "      <th></th>\n",
       "      <th>date</th>\n",
       "      <th>time</th>\n",
       "      <th>open</th>\n",
       "      <th>high</th>\n",
       "      <th>low</th>\n",
       "      <th>close</th>\n",
       "      <th>volume</th>\n",
       "    </tr>\n",
       "  </thead>\n",
       "  <tbody>\n",
       "    <tr>\n",
       "      <th>0</th>\n",
       "      <td>2018-01-02</td>\n",
       "      <td>09:31:00</td>\n",
       "      <td>267.840</td>\n",
       "      <td>267.89</td>\n",
       "      <td>267.67</td>\n",
       "      <td>267.7300</td>\n",
       "      <td>1164907</td>\n",
       "    </tr>\n",
       "    <tr>\n",
       "      <th>1</th>\n",
       "      <td>2018-01-02</td>\n",
       "      <td>09:32:00</td>\n",
       "      <td>267.730</td>\n",
       "      <td>267.74</td>\n",
       "      <td>267.60</td>\n",
       "      <td>267.6199</td>\n",
       "      <td>472361</td>\n",
       "    </tr>\n",
       "    <tr>\n",
       "      <th>2</th>\n",
       "      <td>2018-01-02</td>\n",
       "      <td>09:33:00</td>\n",
       "      <td>267.615</td>\n",
       "      <td>267.77</td>\n",
       "      <td>267.60</td>\n",
       "      <td>267.6900</td>\n",
       "      <td>262439</td>\n",
       "    </tr>\n",
       "    <tr>\n",
       "      <th>3</th>\n",
       "      <td>2018-01-02</td>\n",
       "      <td>09:34:00</td>\n",
       "      <td>267.690</td>\n",
       "      <td>267.70</td>\n",
       "      <td>267.54</td>\n",
       "      <td>267.5500</td>\n",
       "      <td>301185</td>\n",
       "    </tr>\n",
       "    <tr>\n",
       "      <th>4</th>\n",
       "      <td>2018-01-02</td>\n",
       "      <td>09:35:00</td>\n",
       "      <td>267.545</td>\n",
       "      <td>267.60</td>\n",
       "      <td>267.46</td>\n",
       "      <td>267.4700</td>\n",
       "      <td>317255</td>\n",
       "    </tr>\n",
       "    <tr>\n",
       "      <th>...</th>\n",
       "      <td>...</td>\n",
       "      <td>...</td>\n",
       "      <td>...</td>\n",
       "      <td>...</td>\n",
       "      <td>...</td>\n",
       "      <td>...</td>\n",
       "      <td>...</td>\n",
       "    </tr>\n",
       "    <tr>\n",
       "      <th>286998</th>\n",
       "      <td>2020-12-03</td>\n",
       "      <td>15:56:00</td>\n",
       "      <td>365.705</td>\n",
       "      <td>365.89</td>\n",
       "      <td>365.66</td>\n",
       "      <td>365.8100</td>\n",
       "      <td>634242</td>\n",
       "    </tr>\n",
       "    <tr>\n",
       "      <th>286999</th>\n",
       "      <td>2020-12-03</td>\n",
       "      <td>15:57:00</td>\n",
       "      <td>365.820</td>\n",
       "      <td>366.15</td>\n",
       "      <td>365.82</td>\n",
       "      <td>365.9099</td>\n",
       "      <td>582005</td>\n",
       "    </tr>\n",
       "    <tr>\n",
       "      <th>287000</th>\n",
       "      <td>2020-12-03</td>\n",
       "      <td>15:58:00</td>\n",
       "      <td>365.895</td>\n",
       "      <td>366.06</td>\n",
       "      <td>365.64</td>\n",
       "      <td>365.7000</td>\n",
       "      <td>609906</td>\n",
       "    </tr>\n",
       "    <tr>\n",
       "      <th>287001</th>\n",
       "      <td>2020-12-03</td>\n",
       "      <td>15:59:00</td>\n",
       "      <td>365.710</td>\n",
       "      <td>366.04</td>\n",
       "      <td>365.69</td>\n",
       "      <td>366.0400</td>\n",
       "      <td>727587</td>\n",
       "    </tr>\n",
       "    <tr>\n",
       "      <th>287002</th>\n",
       "      <td>2020-12-03</td>\n",
       "      <td>16:00:00</td>\n",
       "      <td>366.020</td>\n",
       "      <td>366.70</td>\n",
       "      <td>365.88</td>\n",
       "      <td>366.6698</td>\n",
       "      <td>2364841</td>\n",
       "    </tr>\n",
       "  </tbody>\n",
       "</table>\n",
       "<p>287003 rows × 7 columns</p>\n",
       "</div>"
      ],
      "text/plain": [
       "              date      time     open    high     low     close   volume\n",
       "0       2018-01-02  09:31:00  267.840  267.89  267.67  267.7300  1164907\n",
       "1       2018-01-02  09:32:00  267.730  267.74  267.60  267.6199   472361\n",
       "2       2018-01-02  09:33:00  267.615  267.77  267.60  267.6900   262439\n",
       "3       2018-01-02  09:34:00  267.690  267.70  267.54  267.5500   301185\n",
       "4       2018-01-02  09:35:00  267.545  267.60  267.46  267.4700   317255\n",
       "...            ...       ...      ...     ...     ...       ...      ...\n",
       "286998  2020-12-03  15:56:00  365.705  365.89  365.66  365.8100   634242\n",
       "286999  2020-12-03  15:57:00  365.820  366.15  365.82  365.9099   582005\n",
       "287000  2020-12-03  15:58:00  365.895  366.06  365.64  365.7000   609906\n",
       "287001  2020-12-03  15:59:00  365.710  366.04  365.69  366.0400   727587\n",
       "287002  2020-12-03  16:00:00  366.020  366.70  365.88  366.6698  2364841\n",
       "\n",
       "[287003 rows x 7 columns]"
      ]
     },
     "execution_count": 19,
     "metadata": {},
     "output_type": "execute_result"
    }
   ],
   "source": [
    "df"
   ]
  },
  {
   "cell_type": "code",
   "execution_count": null,
   "metadata": {},
   "outputs": [],
   "source": []
  }
 ],
 "metadata": {
  "kernelspec": {
   "display_name": "Python 3",
   "language": "python",
   "name": "python3"
  },
  "language_info": {
   "codemirror_mode": {
    "name": "ipython",
    "version": 3
   },
   "file_extension": ".py",
   "mimetype": "text/x-python",
   "name": "python",
   "nbconvert_exporter": "python",
   "pygments_lexer": "ipython3",
   "version": "3.7.7"
  }
 },
 "nbformat": 4,
 "nbformat_minor": 4
}
